{
 "cells": [
  {
   "cell_type": "markdown",
   "id": "5e299af6",
   "metadata": {},
   "source": [
    "This serve as the function to return test/ train data"
   ]
  },
  {
   "cell_type": "code",
   "execution_count": 32,
   "id": "78155c91",
   "metadata": {},
   "outputs": [
    {
     "data": {
      "text/plain": [
       "(120, 4)"
      ]
     },
     "metadata": {},
     "output_type": "display_data"
    },
    {
     "data": {
      "text/plain": [
       "(120,)"
      ]
     },
     "metadata": {},
     "output_type": "display_data"
    },
    {
     "data": {
      "text/plain": [
       "(30, 4)"
      ]
     },
     "metadata": {},
     "output_type": "display_data"
    },
    {
     "data": {
      "text/plain": [
       "(30,)"
      ]
     },
     "metadata": {},
     "output_type": "display_data"
    }
   ],
   "source": [
    "from sklearn.datasets import load_iris\n",
    "import numpy as np \n",
    "# to import data from sklearn datasets\n",
    "iris=load_iris()\n",
    "X,y= iris[\"data\"], iris['target']\n",
    "\n",
    "# to split the data set into train and test\n",
    "N,D= X.shape\n",
    "Ntrain= int(N*0.8)\n",
    "np.random.seed(12)\n",
    "shuffle= np.random.permutation(N) # shuffle is a list of randomized integer range from 0 to N\n",
    "xtrain=X[shuffle[:Ntrain]]\n",
    "ytrain=y[shuffle[:Ntrain]]\n",
    "xtest=X[shuffle[Ntrain:]]\n",
    "ytest=y[shuffle[Ntrain:]]\n",
    "\n",
    "display(xtrain.shape, ytrain.shape, xtest.shape, ytest.shape)\n",
    "\n",
    "\n"
   ]
  },
  {
   "cell_type": "markdown",
   "id": "dd97cf29",
   "metadata": {},
   "source": [
    "# infrastruture\n",
    "\n",
    "if __name__ == \"__main__\":\n",
    "    xtrain, ytrain, xtest, ytest=load_data()\n",
    "    \n",
    "    //to initiate the NBC class object\n",
    "    nbc=NBC(feature_types=[\"r,r,r,r\"], num_classes=3)\n",
    "    \n",
    "    // the fit method wont return, but save the model in self.value in the nbc obj itself\n",
    "    nbc.Fit(xtrain, ytrain)\n",
    "    \n",
    "    // the Predict will take test data set and return the prediction of the label for each test data point\n",
    "    yhat=nbc.Predict(xtest)\n",
    "    accuracy=np.mean(yhat==ytest)\n",
    " \n",
    "    \n",
    "    \n",
    "    "
   ]
  },
  {
   "cell_type": "code",
   "execution_count": 33,
   "id": "2b70d123",
   "metadata": {},
   "outputs": [],
   "source": [
    "# With PFD from external\n",
    "\n",
    "class NBC:\n",
    "    def __init__(self, feature_types:list, num_classes:int):\n",
    "        self.feature_types=feature_types\n",
    "        self.num_classes=num_classes\n",
    "        self.prior={}\n",
    "        self.feat_mean_n_std_per_class={}\n",
    "        for i in range(self.num_classes):\n",
    "            self.feat_mean_n_std_per_class[i]=[]\n",
    "        self.p_y_given_x=None\n",
    "        \n",
    "        \n",
    "        \n",
    "    def Fit(self, xtrain , ytrain):\n",
    "        def get_Prior_Distribution(ytrain):\n",
    "            N=len(ytrain)\n",
    "            # to count for occurence of different classes over the train sample\n",
    "            for item in ytrain: \n",
    "                if item not in self.prior:\n",
    "                    self.prior[item]=1/N\n",
    "                else:\n",
    "                    self.prior[item]+=1/N\n",
    "                    \n",
    "        def get_Mean_Std_Per_Feature(xtrain,ytrain):\n",
    "        \n",
    "            for c in range(self.num_classes):\n",
    "                x_per_class=xtrain[ytrain==c] # to get the data point belonging to this class\n",
    "\n",
    "                for feat_num,feat in enumerate(self.feature_types): #loop for each feat and get their correpsonding mean & std for later conditional distribution calculation\n",
    "                    feat_mean=np.mean(x_per_class[:,feat_num])\n",
    "                    feat_std=np.std(x_per_class[:,feat_num])\n",
    "                    self.feat_mean_n_std_per_class[c].append((feat_mean, feat_std))\n",
    "                \n",
    "        # update self.prior with prior distribution (πc.) per class\n",
    "        get_Prior_Distribution(ytrain)\n",
    "        #update self.feat_mean_n_std_per_class with mean and std for each class per feature to prepare later conditional distribution computing\n",
    "        get_Mean_Std_Per_Feature(xtrain,ytrain)\n",
    "        \n",
    "    def Predict(self, xtest):\n",
    "        \n",
    "        def get_Condi_Dist(mean,std,x_per_feat):\n",
    "            #plug in x for each feature into Gaussian pdf to get the conditional distribution for each data point\n",
    "            \n",
    "            x_per_feat=np.array(x_per_feat)\n",
    "            p_x_given_y_per_feat=(np.pi*std) * np.exp(-0.5*((x_per_feat-mean)/std)**2)\n",
    "            p_x_given_y_per_feat=p_x_given_y_per_feat.reshape(len(xtest),1)\n",
    "            \n",
    "            return p_x_given_y_per_feat\n",
    "            \n",
    "        \n",
    "        self.p_y_given_x=np.zeros((len(xtest),0))\n",
    "        \n",
    "        for c in range(self.num_classes):\n",
    "            feat_mean_std= self.feat_mean_n_std_per_class[c]\n",
    "            # to get the prior probability for each class and prepare to multiply them with condi prob for each feature\n",
    "            condi_prob_per_class=np.array([[1] for _ in range(len(xtest))])*np.log(self.prior[c])\n",
    "            \n",
    "            for feat_num,feat in enumerate(self.feature_types):\n",
    "                mean,std=feat_mean_std[feat_num]\n",
    "                x_per_feat= xtest[:,feat_num]\n",
    "                p_x_given_y_per_feat= get_Condi_Dist(mean, std, x_per_feat)\n",
    "                condi_prob_per_class+=np.log(p_x_given_y_per_feat)\n",
    "            self.p_y_given_x=np.column_stack([self.p_y_given_x,condi_prob_per_class])\n",
    "        \n",
    "        likelihood=np.argmax(self.p_y_given_x,axis=1)\n",
    "        return likelihood        \n",
    "        \n",
    "        \n",
    "        \n",
    "                "
   ]
  },
  {
   "cell_type": "code",
   "execution_count": 36,
   "id": "b784dcdc",
   "metadata": {},
   "outputs": [
    {
     "data": {
      "text/plain": [
       "'the testing score is 0.9'"
      ]
     },
     "metadata": {},
     "output_type": "display_data"
    },
    {
     "data": {
      "text/plain": [
       "'the training score is 0.9666666666666667'"
      ]
     },
     "metadata": {},
     "output_type": "display_data"
    }
   ],
   "source": [
    "nbc=NBC(['r','r','r','r'], 3)\n",
    "nbc.Fit(xtrain, ytrain)\n",
    "yhat=nbc.Predict(xtest)\n",
    "test_accuracy=np.mean(yhat==ytest)\n",
    "display(\"the testing score is {}\".format(test_accuracy))\n",
    "y_train_predict=nbc.Predict(xtrain)\n",
    "train_accuracy=np.mean(y_train_predict==ytrain)\n",
    "display(\"the training score is {}\".format(train_accuracy))"
   ]
  },
  {
   "cell_type": "code",
   "execution_count": 25,
   "id": "c4534f0f",
   "metadata": {},
   "outputs": [
    {
     "data": {
      "text/plain": [
       "0.9"
      ]
     },
     "execution_count": 25,
     "metadata": {},
     "output_type": "execute_result"
    }
   ],
   "source": [
    "from sklearn.naive_bayes import GaussianNB\n",
    "gnb=GaussianNB()\n",
    "gnb.fit(xtrain,ytrain)\n",
    "y_pred=gnb.predict(xtest)\n",
    "y_train_pred=\n",
    "display(\"the testing score is {}\".format(np.mean(y_pred==ytest)))\n",
    "\n"
   ]
  },
  {
   "cell_type": "code",
   "execution_count": null,
   "id": "12592fa3",
   "metadata": {},
   "outputs": [],
   "source": []
  },
  {
   "cell_type": "code",
   "execution_count": null,
   "id": "1b4ab725",
   "metadata": {},
   "outputs": [],
   "source": []
  }
 ],
 "metadata": {
  "kernelspec": {
   "display_name": "Python 3 (ipykernel)",
   "language": "python",
   "name": "python3"
  },
  "language_info": {
   "codemirror_mode": {
    "name": "ipython",
    "version": 3
   },
   "file_extension": ".py",
   "mimetype": "text/x-python",
   "name": "python",
   "nbconvert_exporter": "python",
   "pygments_lexer": "ipython3",
   "version": "3.9.12"
  }
 },
 "nbformat": 4,
 "nbformat_minor": 5
}
